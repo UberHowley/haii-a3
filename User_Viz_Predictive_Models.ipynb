{
 "cells": [
  {
   "cell_type": "markdown",
   "metadata": {},
   "source": [
    "# Visualizing Predictive Models for Users\n",
    "\n",
    "Welcome to `Heart AI`, the latest and greatest dating app start-up. We're building a machine learning model to predict which user to match with which other user in speed dating events. We've gathered some existing data from a few in-person speed dating events, in which participants record their hobbies, demographic details, and level of interest in other participants they've met. Before we engineer the back-end, we'd like you, our resident Human-AI Interaction expert, to implement a few sample visualizations so we know what features to support.\n",
    "\n",
    "## The Data \n",
    "`dates.csv` contains 8,378 entries from our pilot test data at heterosexual speed dating events at Columbia University from 2002-2004. In these events, each participant met each of all opposite-gender participants for four minutes. The number of speed dates dates varied by the event, on average there were 15, but it could be as few as 5 or as many as 22. Afterward, each participant was asked if they would like to meet any of their speed dating partners again. They also provided ratings on six **attributes** about each speed date:\n",
    "\n",
    "- Attractiveness\n",
    "- Sincerity\n",
    "- Intelligence\n",
    "- Fun\n",
    "- Ambition\n",
    "- Shared Interests\n",
    "\n",
    "The dataset also includes varying participants' perspectives on those attributes, along with other demographic information and hobbies as described below. \n",
    "\n",
    "Each row of the dataset is a speed date, and since participants have multiple dates, they appear in the dataset multiple times. Each column is described below:\n",
    "\n",
    "| Column Header       | Description     |\n",
    "| :------------- |  ----------: | \n",
    "|  iid | Numerical ID unique to this person   |\n",
    "| gender   | This participant's self-reported gender (f = female)|\n",
    "| age | Age in years of this participant |\n",
    "| race | This person's race |\n",
    "| field | This person's field of study |\n",
    "| income | The median household income of the zipcode where this person grew up |\n",
    "| from | Where this person is originally from |\n",
    "| tot_rounds | The total number of speed dating rounds (i.e., num speed dates)\n",
    "| round_num | Index of which speed date of the event (first, second , third...)|\n",
    "| pid | The partner's unique numerical ID |\n",
    "| age_partner | The partner's age |\n",
    "| race_partner | The partner's race |\n",
    "| same_race | Whether this participant and the partner are the same race (y = yes)|\n",
    "| request | This participant would like to meet this partner in a follow-up date |\n",
    "| request_partner | The partner would like to meet this partner in a follow-up date |\n",
    "| match | Both participants would like a follow-up meeting |\n",
    "| like | How much this person liked this partner |\n",
    "| prob_yes | This person's self-reported probability the partner will say yes to a 2nd date |\n",
    "| like_partner | How much the partner liked this person |\n",
    "| prob_yes_partner | The partner's probability this person will say yes to a 2nd date |\n",
    "\n",
    "The next 17 columns all relate to the six attribute ratings listed above: how the participant rated each partner, themself, and how the partner rated the participant:\n",
    "\n",
    "| Attribute Header       | Description     |\n",
    "| :------------- |  ----------: | \n",
    "| attractive | Rating of Attractiveness this person gave to their partner |\n",
    "| sincere | Rating of Sincerity this person gave to their partner |\n",
    "| intelligence | Rating of Intelligence this person gave to their partner |\n",
    "| fun | Rating of Fun this person gave to their partner |\n",
    "| ambitious | Rating of Ambition this person gave to their partner |\n",
    "| shared_interests | Rating of Shared Interests this person gave to their partner |\n",
    "| attractive_partner | Rating of Attractiveness the partner gave to this person |\n",
    "| sincere_partner | Rating of Sincerity the partner gave to this person |\n",
    "| intelligence_partner | Rating of Intelligence the partner gave to this person |\n",
    "| fun_partner | Rating of Fun the partner gave to this person |\n",
    "| ambitious_partner | Rating of Ambition the partner gave to this person |\n",
    "| shared_interests_partner | Rating of Shared Interests the partner gave to this person |\n",
    "| attractive_self | Rating of Attractiveness this person gave them self |\n",
    "| sincere_self | Rating of Sincerity this person gave them self |\n",
    "| intelligence_self | Rating of Intelligence this person gave them self |\n",
    "| fun_self | Rating of Fun the partner this person gave them self |\n",
    "| ambitious_self | Rating of Ambition this person gave them self |\n",
    "\n",
    "The next 17 columns are the participant's answer to the question _\"How **interest**ed are you in the following activities, on a scale of 1-10?\"_: sports (Playing sports/ athletics), tvsports (Watching sports), excercise, dining (Dining out), museums (Museums/galleries), art, hiking (Hiking/camping), gaming, clubbing (Dancing/clubbing), reading, tv (Watching TV), theater, movies, concerts (Going to concerts), music, shopping, and yoga (yoga/meditation). The numerical answers to these questions are recorded in the last 17 columns with the column head appended with `_num`. The low, moderate, high categories were determined based on quartiles: less than quartile 1 = `low`, less than quartile 3 = `moderate`, otherwise `high`. \n",
    "\n"
   ]
  },
  {
   "cell_type": "markdown",
   "metadata": {},
   "source": [
    "---\n",
    "\n",
    "---\n",
    "\n",
    "---\n",
    "\n",
    "## Part 1: Explore & Visualize \n",
    "_50% of the total effort on this assignment._\n",
    "\n",
    "The goal of these tasks are to experiment with different ways of visualizing data. Show your work in code as well as your final visualizations in this notebook. Include answers to all questions.\n",
    "\n",
    "If you’ve never visualized in Python, here are some helpful resources, **review** these first!\n",
    "- The `pandas` module has some visualization support: https://pandas.pydata.org/pandas-docs/stable/user_guide/visualization.html \n",
    "- You can also use Matplotlib, which is incredibly powerful: https://matplotlib.org/gallery/index.html \n",
    "\n",
    "_Remember_, if you're going to borrow and adapt code from a resource likes these, make sure you know what the code is doing before you adapt it. That way you get meaningful outcomes, rather than illegible graphs and data!\n"
   ]
  },
  {
   "cell_type": "code",
   "execution_count": null,
   "metadata": {},
   "outputs": [],
   "source": [
    "import pandas as pd # import pandas library\n",
    "df = pd.read_csv('data/dates.csv', low_memory=False) # read the csv file into a pandas dataframe object"
   ]
  },
  {
   "cell_type": "markdown",
   "metadata": {},
   "source": [
    "Recall from Assignment 1 the data exploration methods from the `pandas` module we used previously:\n",
    "\n",
    "- `df.head()` will show us the first 5 rows of our dataset. You can also specify the first N rows, like `df.head(18)` will show us the first 18 rows.\n",
    "- `df.sample(10)` will show us 10 randomly sampled rows of our dataset\n",
    "- `df.shape` will tell us how many rows and how many columns are in the dataset\n",
    "- `df.columns` will list the names of all columns in the dataset\n",
    "- `df.describe()` will give you summary statistics about all numerical columns in the dataset\n",
    "\n",
    "_Actually_, you'll need to recall many things from Assignment 1. Maybe take a few minutes to review it!"
   ]
  },
  {
   "cell_type": "code",
   "execution_count": null,
   "metadata": {},
   "outputs": [],
   "source": [
    "# Complete data exploration here (optional)"
   ]
  },
  {
   "cell_type": "markdown",
   "metadata": {},
   "source": [
    "### Task 1a. Create a histogram of speed date participant counts by age. \n",
    "_5% effort._\n",
    "\n",
    "A [histogram](https://en.wikipedia.org/wiki/Histogram) shows _counts_ of values in a bar chart form. This histogram will let us see if most of the participants are younger or older. One axis should be a sorted continuous range of the youngest person in the dataset to the age of the oldest person in the dataset. The other axis should be the counts for each age. Remember your axes labels! \n",
    "\n",
    "_Hint_: Recall each row of the data is a speed date, not one person (`iid`). Each person will appear in the dataset 5 to 22 times. You may want to look into [`pandas drop_duplicates()`](https://www.geeksforgeeks.org/python-pandas-dataframe-drop_duplicates/) so you don't double/quintuple count anyone!\n",
    "\n",
    "_Hint_: You may need to `import matplotlib.pyplot as plt` and use `plt.xlabel` and `plt.title` methods to add labels to your histogram. This works even for the `pandas DataFrame.hist` method!"
   ]
  },
  {
   "cell_type": "code",
   "execution_count": null,
   "metadata": {},
   "outputs": [],
   "source": [
    "# Python code that creates the described histogram:"
   ]
  },
  {
   "cell_type": "markdown",
   "metadata": {},
   "source": [
    "### Task 1b. Create a histogram of participant counts by age, split by gender. \n",
    "_8% effort._\n",
    "\n",
    "This histogram will show us the distribution of speed dating participants by age, one histogram for each gender in the dataset.\n",
    "\n",
    "_Hint_: It may make sense to reuse the dataframe plotted from Task 1a, but perhaps add an informative column. When using `pandas DataFrame.hist()` method, these two histograms can be generated with ~1 line of code + [a few lines extra to add axes labels](https://stackoverflow.com/questions/42832675/setting-axis-labels-for-histogram-pandas) + 1 line to `ax.set_ylim((0,45))` and set the y-axes labels to be the same."
   ]
  },
  {
   "cell_type": "code",
   "execution_count": null,
   "metadata": {},
   "outputs": [],
   "source": [
    "# Python code that creates the described histogram:"
   ]
  },
  {
   "cell_type": "markdown",
   "metadata": {},
   "source": [
    "When shown data or an ML model, humans tend to have _confirmation bias_, meaning that they tend to believe that whatever the data or model says is what they really thought all along. Ever broke up with a significant other and your friends tell you \"I told you so\"? This is confirmation bias. With Bayesian reasoning, we can take into account a viewer’s prior reasonable guess before they see data. This is a good technique to help users reflect on how the data might conflict with \"what they thought all along.\" \n",
    "\n",
    "### Task 1c. Record prior: female ages --> successful matches.\n",
    "_2% effort._\n",
    "\n",
    "Write down what you believe (before looking at the data. Just guess!) is the relationship between female participant age and number of successful matches. Do you expect successful matches to be the same across all ages or higher in certain age ranges? Why?"
   ]
  },
  {
   "cell_type": "markdown",
   "metadata": {},
   "source": [
    "_Double click this text to write your answer to the question here._"
   ]
  },
  {
   "cell_type": "markdown",
   "metadata": {},
   "source": [
    "### Task 1d. Record prior: male ages --> successful matches.\n",
    "_2% effort._\n",
    "\n",
    "Write down what you believe (before looking at the data. Just guess!) is the relationship between male participant age and number of successful matches. Do you expect successful matches to be the same across all ages or higher in certain age ranges? Why?"
   ]
  },
  {
   "cell_type": "markdown",
   "metadata": {},
   "source": [
    "_Double click this text to write your answer to the question here._"
   ]
  },
  {
   "cell_type": "markdown",
   "metadata": {},
   "source": [
    "### Task 1e. Generate histograms of priors.\n",
    "_5% effort._\n",
    "\n",
    "1. Create a histogram of successful matches female participants had by age. \n",
    "2. Create a histogram of successful matches male participants had by age. \n",
    "\n",
    "We're now interested in data at the match level, rather than the individual level. If you previously dropped duplicate `iid`s, you may want to update your data to include them so you can count _every_ match, not just the first one!\n",
    "\n",
    "_Hint_: You might find it helpful to figure out how to [filter out values by a conditional using pandas](https://www.geeksforgeeks.org/drop-rows-from-the-dataframe-based-on-certain-condition-applied-on-a-column/)."
   ]
  },
  {
   "cell_type": "code",
   "execution_count": null,
   "metadata": {},
   "outputs": [],
   "source": [
    "# Code that generates histograms 1 & 2:"
   ]
  },
  {
   "cell_type": "markdown",
   "metadata": {},
   "source": [
    "### Task 1f. Compare priors with histograms.\n",
    "_8% effort._\n",
    "\n",
    "Compare your prior guess in 1c and 1d to the histograms in 1e. What did you learn from the histograms? Are there parts of your prior guess that were confirmed by the histograms? Are there parts of your prior guess that were wrong or different than you expected?"
   ]
  },
  {
   "cell_type": "markdown",
   "metadata": {},
   "source": [
    "_Double click this text to write your answer to the question here._"
   ]
  },
  {
   "cell_type": "markdown",
   "metadata": {},
   "source": [
    "When users see different possibilities separately in a data or ML system, there’s a bias towards thinking _all possibilities are equally likely_, when really some options are more or less probable in real life. e.g., While a headache could be caused by autumn allergies or by brain cancer, the likelihood of allergies is far higher in real life than brain cancer.\n",
    "\n",
    "### Task 1g.\n",
    "_20% effort._\n",
    "\n",
    "Create a visualization of _your choice_, allowing users to examine how different personal features correlate with successful matches with increasing age. Overlay 4 different participant demographics in the same plot, with age as the x-axis and including only data from successful matches. Design this visualization however you wish. Justify your design by writing a few sentences about how your visualization will help users compare the 4 different attributes by age. Talk about encoding choices such as: plot type, use of size, color, and axes labels. Are there any flaws in your visualization?\n",
    "\n",
    "_Examples_: This could be a stacked histogram showing the number of successful matches by the 4+ participant races in the dataset, or it could be the mean of 4 different interests overlayed in the same line chart, or you could look at the self-ratings along the attributes, or you could consider adding columns to the dataset that might provide additional insights! Explore the data and generate something interesting to you!\n",
    "\n",
    "_Hint_: The [`pandas DataFrame.groupby`](https://www.geeksforgeeks.org/pandas-groupby/) method can be very useful here!"
   ]
  },
  {
   "cell_type": "markdown",
   "metadata": {},
   "source": [
    "_Double click this text to write your answer to the question here._"
   ]
  },
  {
   "cell_type": "code",
   "execution_count": null,
   "metadata": {},
   "outputs": [],
   "source": [
    "# Code that generates your visualization:"
   ]
  },
  {
   "cell_type": "markdown",
   "metadata": {},
   "source": [
    "---\n",
    "\n",
    "---\n",
    "\n",
    "---\n",
    "\n",
    "## Part 2: Designing Personal Predictions\n",
    "_50% of the total effort on this assignment._\n",
    "\n",
    "The goal of Part 2 is to start designing an interactive interface, where a user that comes to the `Heart AI` visualization can put in their own information (like age, gender, interests, self-perceived attributes, and so on), and see how their information relates to the possibility of a successful speed date match. \n",
    "\n",
    "Show your work in code as well as your final visualizations in this notebook. Include answers to all questions.\n",
    "\n",
    "To add some minimal interactivity with minimal effort, consider using Jupyter Notebook Widgets: \n",
    "- https://ipywidgets.readthedocs.io/en/latest/examples/Using%20Interact.html \n",
    "- https://towardsdatascience.com/interactive-controls-for-jupyter-notebooks-f5c94829aee6\n",
    "- https://ipywidgets.readthedocs.io/en/latest/examples/Widget%20List.html\n",
    "\n",
    "\n",
    "### Task 2a. Design for personas. \n",
    "_20% effort._\n",
    "\n",
    "For each of the fictional users given, create a single visualization that provides insight into that user's likely experience at a speed dating event. To experiment with design choices, make each user/visualization pair a different visual encoding that represents different design choices (e.g. you could try a different plot type for some users). \n",
    "\n",
    "- Morgan is a young black male college student studying Law. \n",
    "- Taylor is a 27 year old woman. She greatly enjoys reading and yoga.\n",
    "- Cal is a white man in his late 20s, who believes he's moderately attractive.\n",
    "- Reilly is a Psychologist of non-binary gender, who realllly doesn't like going to art museums.\n",
    "\n",
    "_ Hint_: If the demographic detail for the user is missing from the description, then it could be a good candidate for displaying \"What-if\" scenarios along that dimension. If it is provided, you could consider showing how slight changes in that information might impact success."
   ]
  },
  {
   "cell_type": "code",
   "execution_count": null,
   "metadata": {},
   "outputs": [],
   "source": [
    "# Code that generates a visualization for Morgan:"
   ]
  },
  {
   "cell_type": "code",
   "execution_count": null,
   "metadata": {},
   "outputs": [],
   "source": [
    "# Code that generates a visualization for Taylor:"
   ]
  },
  {
   "cell_type": "code",
   "execution_count": null,
   "metadata": {},
   "outputs": [],
   "source": [
    "# Code that generates a visualization for Cal:"
   ]
  },
  {
   "cell_type": "code",
   "execution_count": null,
   "metadata": {},
   "outputs": [],
   "source": [
    "# Code that generates a visualization for Reilly:"
   ]
  },
  {
   "cell_type": "markdown",
   "metadata": {},
   "source": [
    "### Task 2b. Which visualization from 2a do you think is the most successful design? What visualization techniques did you use? \n",
    "_3% effort._"
   ]
  },
  {
   "cell_type": "markdown",
   "metadata": {},
   "source": [
    "_Double click this text to write your answer to the question here._"
   ]
  },
  {
   "cell_type": "markdown",
   "metadata": {},
   "source": [
    "### Task 2c.  Limitations\n",
    "_7% effort._\n",
    "\n",
    "Given your visualizations in 2a, what would be good questions for a user to ask a personalized visualization from this dataset? What would be some questions that a personalized visualization (with this dataset alone) cannot answer?"
   ]
  },
  {
   "cell_type": "markdown",
   "metadata": {},
   "source": [
    "_Double click this text to write your answer to the question here._"
   ]
  },
  {
   "cell_type": "markdown",
   "metadata": {},
   "source": [
    "### Task 2d. Best information.\n",
    "_7% effort._\n",
    "\n",
    "If users like those in 2a visit the `Heart AI` interactive tool, what information would you have them put in to show the most relevant match success visualization and why?"
   ]
  },
  {
   "cell_type": "markdown",
   "metadata": {},
   "source": [
    "_Double click this text to write your answer to the question here._"
   ]
  },
  {
   "cell_type": "markdown",
   "metadata": {},
   "source": [
    "### Task 2e. Data processing.\n",
    "_3% effort._\n",
    "\n",
    "In the given data, Interest information is pre-binned as low, moderate, high. Is there any other data in this dataset that could be helpful to bin the data? How would you bin it?"
   ]
  },
  {
   "cell_type": "markdown",
   "metadata": {},
   "source": [
    "_Double click this text to write your answer to the question here._"
   ]
  },
  {
   "cell_type": "markdown",
   "metadata": {},
   "source": [
    "### Task 2f. Data use.\n",
    "_10% effort._\n",
    "\n",
    "Is the data used in this activity a good choice for `Heart AI`'s pilot testing? Why/Why not? How might it be improved? "
   ]
  },
  {
   "cell_type": "markdown",
   "metadata": {},
   "source": [
    "_Double click this text to write your answer to the question here._"
   ]
  },
  {
   "cell_type": "markdown",
   "metadata": {},
   "source": [
    "---\n",
    "\n",
    "---\n",
    "\n",
    "---\n",
    "\n",
    "## Submit your Assignment\n",
    "Once you've completed all of the above, you're done with assignment 3! You might want to double check that your code works like you expect. You can do this by choosing \"Restart & Run All\" in the Kernel menu. If it outputs errors, you should go back and check what you've done. Iris needs to be able to run your notebook on her computer!\n",
    "\n",
    "Once you think everything is set, please upload your final notebook (with all of your code run and output showing), to Glow with filename `[yourunixID]_haii20[assignmentnumber].ipynb`, e.g., `ikh1_haii20a3.ipynb`\n",
    "\n",
    "If you've modified your data file outside of this notebook, please zip it up with your Jupyter Notebook and submit together as one `.zip` file so that I can run it!"
   ]
  }
 ],
 "metadata": {
  "kernelspec": {
   "display_name": "Python 3",
   "language": "python",
   "name": "python3"
  },
  "language_info": {
   "codemirror_mode": {
    "name": "ipython",
    "version": 3
   },
   "file_extension": ".py",
   "mimetype": "text/x-python",
   "name": "python",
   "nbconvert_exporter": "python",
   "pygments_lexer": "ipython3",
   "version": "3.6.4"
  }
 },
 "nbformat": 4,
 "nbformat_minor": 2
}
